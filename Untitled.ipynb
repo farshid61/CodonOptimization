{
 "cells": [
  {
   "cell_type": "code",
   "execution_count": 244,
   "id": "2aff722e-a780-431b-b51e-5cffd02353be",
   "metadata": {},
   "outputs": [],
   "source": [
    "class Solution(object):\n",
    "    def merge(self, nums1, m, nums2, n):\n",
    "        \"\"\"\n",
    "        :type nums1: List[int]\n",
    "        :type m: int\n",
    "        :type nums2: List[int]\n",
    "        :type n: int\n",
    "        :rtype: None Do not return anything, modify nums1 in-place instead.\n",
    "        \"\"\"\n",
    "        i_n=0\n",
    "        while i_n<n:\n",
    "            nums1[m+1]=nums2[i_n])\n",
    "            i_n+=1\n",
    "        nums1.sort()\n",
    "        \n",
    "      "
   ]
  },
  {
   "cell_type": "code",
   "execution_count": 245,
   "id": "b1fbc698-5c71-49a7-87ed-69456b3df85a",
   "metadata": {},
   "outputs": [],
   "source": [
    "nums1 = [1,2,3,0,0,0]\n",
    "m = 3\n",
    "nums2 = [2,5,6]\n",
    "n=3"
   ]
  },
  {
   "cell_type": "code",
   "execution_count": 246,
   "id": "002f2cb8-e588-42b8-90d8-f1827b8543d2",
   "metadata": {},
   "outputs": [],
   "source": [
    "s=Solution()\n",
    "s.merge(nums1, m, nums2, n)\n",
    " \n"
   ]
  },
  {
   "cell_type": "code",
   "execution_count": 247,
   "id": "fa766093-19b3-4724-b3f7-9b96b6ed76c1",
   "metadata": {},
   "outputs": [
    {
     "data": {
      "text/plain": [
       "[0, 0, 1, 2, 3, 6]"
      ]
     },
     "execution_count": 247,
     "metadata": {},
     "output_type": "execute_result"
    }
   ],
   "source": [
    "nums1"
   ]
  },
  {
   "cell_type": "code",
   "execution_count": null,
   "id": "6d8999a1-5e57-4e9f-b45f-50fe925da669",
   "metadata": {},
   "outputs": [],
   "source": []
  }
 ],
 "metadata": {
  "kernelspec": {
   "display_name": "Python 3 (ipykernel)",
   "language": "python",
   "name": "python3"
  },
  "language_info": {
   "codemirror_mode": {
    "name": "ipython",
    "version": 3
   },
   "file_extension": ".py",
   "mimetype": "text/x-python",
   "name": "python",
   "nbconvert_exporter": "python",
   "pygments_lexer": "ipython3",
   "version": "3.12.2"
  }
 },
 "nbformat": 4,
 "nbformat_minor": 5
}
